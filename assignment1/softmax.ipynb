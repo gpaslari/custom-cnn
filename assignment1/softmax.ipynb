{
 "cells": [
  {
   "cell_type": "markdown",
   "metadata": {
    "tags": [
     "pdf-title"
    ]
   },
   "source": [
    "# Softmax exercise\n",
    "\n",
    "*Complete and hand in this completed worksheet (including its outputs and any supporting code outside of the worksheet) with your assignment submission. For more details see the [assignments page](http://vision.stanford.edu/teaching/cs231n/assignments.html) on the course website.*\n",
    "\n",
    "This exercise is analogous to the SVM exercise. You will:\n",
    "\n",
    "- implement a fully-vectorized **loss function** for the Softmax classifier\n",
    "- implement the fully-vectorized expression for its **analytic gradient**\n",
    "- **check your implementation** with numerical gradient\n",
    "- use a validation set to **tune the learning rate and regularization** strength\n",
    "- **optimize** the loss function with **SGD**\n",
    "- **visualize** the final learned weights\n"
   ]
  },
  {
   "cell_type": "code",
   "execution_count": 1,
   "metadata": {
    "tags": [
     "pdf-ignore"
    ]
   },
   "outputs": [],
   "source": [
    "import random\n",
    "import numpy as np\n",
    "from cs231n.data_utils import load_CIFAR10\n",
    "import matplotlib.pyplot as plt\n",
    "\n",
    "%matplotlib inline\n",
    "plt.rcParams['figure.figsize'] = (10.0, 8.0) # set default size of plots\n",
    "plt.rcParams['image.interpolation'] = 'nearest'\n",
    "plt.rcParams['image.cmap'] = 'gray'\n",
    "\n",
    "# for auto-reloading extenrnal modules\n",
    "# see http://stackoverflow.com/questions/1907993/autoreload-of-modules-in-ipython\n",
    "%load_ext autoreload\n",
    "%autoreload 2"
   ]
  },
  {
   "cell_type": "code",
   "execution_count": 2,
   "metadata": {
    "tags": [
     "pdf-ignore"
    ]
   },
   "outputs": [
    {
     "name": "stdout",
     "output_type": "stream",
     "text": [
      "Train data shape:  (49000, 3073)\n",
      "Train labels shape:  (49000,)\n",
      "Validation data shape:  (1000, 3073)\n",
      "Validation labels shape:  (1000,)\n",
      "Test data shape:  (1000, 3073)\n",
      "Test labels shape:  (1000,)\n",
      "dev data shape:  (500, 3073)\n",
      "dev labels shape:  (500,)\n"
     ]
    }
   ],
   "source": [
    "def get_CIFAR10_data(num_training=49000, num_validation=1000, num_test=1000, num_dev=500):\n",
    "    \"\"\"\n",
    "    Load the CIFAR-10 dataset from disk and perform preprocessing to prepare\n",
    "    it for the linear classifier. These are the same steps as we used for the\n",
    "    SVM, but condensed to a single function.  \n",
    "    \"\"\"\n",
    "    # Load the raw CIFAR-10 data\n",
    "    cifar10_dir = 'cs231n/datasets/cifar-10-batches-py'\n",
    "    \n",
    "    # Cleaning up variables to prevent loading data multiple times (which may cause memory issue)\n",
    "    try:\n",
    "       del X_train, y_train\n",
    "       del X_test, y_test\n",
    "       print('Clear previously loaded data.')\n",
    "    except:\n",
    "       pass\n",
    "\n",
    "    X_train, y_train, X_test, y_test = load_CIFAR10(cifar10_dir)\n",
    "    \n",
    "    # subsample the data\n",
    "    mask = list(range(num_training, num_training + num_validation))\n",
    "    X_val = X_train[mask]\n",
    "    y_val = y_train[mask]\n",
    "    mask = list(range(num_training))\n",
    "    X_train = X_train[mask]\n",
    "    y_train = y_train[mask]\n",
    "    mask = list(range(num_test))\n",
    "    X_test = X_test[mask]\n",
    "    y_test = y_test[mask]\n",
    "    mask = np.random.choice(num_training, num_dev, replace=False)\n",
    "    X_dev = X_train[mask]\n",
    "    y_dev = y_train[mask]\n",
    "    \n",
    "    # Preprocessing: reshape the image data into rows\n",
    "    X_train = np.reshape(X_train, (X_train.shape[0], -1))\n",
    "    X_val = np.reshape(X_val, (X_val.shape[0], -1))\n",
    "    X_test = np.reshape(X_test, (X_test.shape[0], -1))\n",
    "    X_dev = np.reshape(X_dev, (X_dev.shape[0], -1))\n",
    "    \n",
    "    # Normalize the data: subtract the mean image\n",
    "    mean_image = np.mean(X_train, axis = 0)\n",
    "    X_train -= mean_image\n",
    "    X_val -= mean_image\n",
    "    X_test -= mean_image\n",
    "    X_dev -= mean_image\n",
    "    \n",
    "    # add bias dimension and transform into columns\n",
    "    X_train = np.hstack([X_train, np.ones((X_train.shape[0], 1))])\n",
    "    X_val = np.hstack([X_val, np.ones((X_val.shape[0], 1))])\n",
    "    X_test = np.hstack([X_test, np.ones((X_test.shape[0], 1))])\n",
    "    X_dev = np.hstack([X_dev, np.ones((X_dev.shape[0], 1))])\n",
    "    \n",
    "    return X_train, y_train, X_val, y_val, X_test, y_test, X_dev, y_dev\n",
    "\n",
    "\n",
    "# Invoke the above function to get our data.\n",
    "X_train, y_train, X_val, y_val, X_test, y_test, X_dev, y_dev = get_CIFAR10_data()\n",
    "print('Train data shape: ', X_train.shape)\n",
    "print('Train labels shape: ', y_train.shape)\n",
    "print('Validation data shape: ', X_val.shape)\n",
    "print('Validation labels shape: ', y_val.shape)\n",
    "print('Test data shape: ', X_test.shape)\n",
    "print('Test labels shape: ', y_test.shape)\n",
    "print('dev data shape: ', X_dev.shape)\n",
    "print('dev labels shape: ', y_dev.shape)"
   ]
  },
  {
   "cell_type": "markdown",
   "metadata": {},
   "source": [
    "## Softmax Classifier\n",
    "\n",
    "Your code for this section will all be written inside **cs231n/classifiers/softmax.py**. \n"
   ]
  },
  {
   "cell_type": "code",
   "execution_count": 12,
   "metadata": {},
   "outputs": [
    {
     "name": "stdout",
     "output_type": "stream",
     "text": [
      "loss: 2.382408\n",
      "sanity check: 2.302585\n"
     ]
    }
   ],
   "source": [
    "# First implement the naive softmax loss function with nested loops.\n",
    "# Open the file cs231n/classifiers/softmax.py and implement the\n",
    "# softmax_loss_naive function.\n",
    "\n",
    "from cs231n.classifiers.softmax import softmax_loss_naive\n",
    "import time\n",
    "\n",
    "# Generate a random softmax weight matrix and use it to compute the loss.\n",
    "W = np.random.randn(3073, 10) * 0.0001\n",
    "loss, grad = softmax_loss_naive(W, X_dev, y_dev, 0.0)\n",
    "\n",
    "# As a rough sanity check, our loss should be something close to -log(0.1).\n",
    "print('loss: %f' % loss)\n",
    "print('sanity check: %f' % (-np.log(0.1)))"
   ]
  },
  {
   "cell_type": "markdown",
   "metadata": {
    "tags": [
     "pdf-inline"
    ]
   },
   "source": [
    "**Inline Question 1**\n",
    "\n",
    "Why do we expect our loss to be close to -log(0.1)? Explain briefly.**\n",
    "\n",
    "$\\color{blue}{\\textit Your Answer:}$ *All our weights are close to 0 as we've just initialized them. Amount of y categories = 10, so E power 0 = close to 1, sum of all (E power 0) is close to 10. As result we have our value (close to 1) / (10 times close to 1)* \n",
    "\n"
   ]
  },
  {
   "cell_type": "code",
   "execution_count": 20,
   "metadata": {},
   "outputs": [
    {
     "name": "stdout",
     "output_type": "stream",
     "text": [
      "numerical: 2.968016 analytic: 2.968016, relative error: 1.326653e-08\n",
      "numerical: -2.996020 analytic: -2.996020, relative error: 1.190271e-08\n",
      "numerical: 0.204311 analytic: 0.204311, relative error: 1.409364e-07\n",
      "numerical: 0.572787 analytic: 0.572787, relative error: 5.756008e-08\n",
      "numerical: -1.268713 analytic: -1.268713, relative error: 3.942361e-09\n",
      "numerical: 0.628541 analytic: 0.628541, relative error: 3.969066e-09\n",
      "numerical: 0.920809 analytic: 0.920808, relative error: 6.375579e-08\n",
      "numerical: 2.915818 analytic: 2.915818, relative error: 1.963393e-08\n",
      "numerical: 0.528621 analytic: 0.528620, relative error: 1.561620e-07\n",
      "numerical: 0.457014 analytic: 0.457014, relative error: 6.757398e-08\n",
      "numerical: 0.841346 analytic: 0.829864, relative error: 6.870450e-03\n",
      "numerical: 4.094921 analytic: 4.094709, relative error: 2.578641e-05\n",
      "numerical: 1.671039 analytic: 1.672754, relative error: 5.128413e-04\n",
      "numerical: -2.979590 analytic: -2.975862, relative error: 6.260004e-04\n",
      "numerical: 0.671952 analytic: 0.671741, relative error: 1.572188e-04\n",
      "numerical: -0.377907 analytic: -0.378395, relative error: 6.446509e-04\n",
      "numerical: 0.749251 analytic: 0.743680, relative error: 3.732091e-03\n",
      "numerical: 2.833076 analytic: 2.835544, relative error: 4.353012e-04\n",
      "numerical: -3.136938 analytic: -3.133800, relative error: 5.004299e-04\n",
      "numerical: -0.660217 analytic: -0.667429, relative error: 5.432354e-03\n"
     ]
    }
   ],
   "source": [
    "# Complete the implementation of softmax_loss_naive and implement a (naive)\n",
    "# version of the gradient that uses nested loops.\n",
    "loss, grad = softmax_loss_naive(W, X_dev, y_dev, 0.0)\n",
    "\n",
    "# As we did for the SVM, use numeric gradient checking as a debugging tool.\n",
    "# The numeric gradient should be close to the analytic gradient.\n",
    "from cs231n.gradient_check import grad_check_sparse\n",
    "f = lambda w: softmax_loss_naive(w, X_dev, y_dev, 0.0)[0]\n",
    "grad_numerical = grad_check_sparse(f, W, grad, 10)\n",
    "\n",
    "# similar to SVM case, do another gradient check with regularization\n",
    "loss, grad = softmax_loss_naive(W, X_dev, y_dev, 5e1)\n",
    "f = lambda w: softmax_loss_naive(w, X_dev, y_dev, 5e1)[0]\n",
    "grad_numerical = grad_check_sparse(f, W, grad, 10)"
   ]
  },
  {
   "cell_type": "code",
   "execution_count": 24,
   "metadata": {},
   "outputs": [
    {
     "name": "stdout",
     "output_type": "stream",
     "text": [
      "naive loss: 2.382408e+00 computed in 0.313997s\n",
      "vectorized loss: 2.382408e+00 computed in 0.011998s\n",
      "Loss difference: 0.000000\n",
      "Gradient difference: 0.000000\n"
     ]
    }
   ],
   "source": [
    "# Now that we have a naive implementation of the softmax loss function and its gradient,\n",
    "# implement a vectorized version in softmax_loss_vectorized.\n",
    "# The two versions should compute the same results, but the vectorized version should be\n",
    "# much faster.\n",
    "tic = time.time()\n",
    "loss_naive, grad_naive = softmax_loss_naive(W, X_dev, y_dev, 0.000005)\n",
    "toc = time.time()\n",
    "print('naive loss: %e computed in %fs' % (loss_naive, toc - tic))\n",
    "\n",
    "from cs231n.classifiers.softmax import softmax_loss_vectorized\n",
    "tic = time.time()\n",
    "loss_vectorized, grad_vectorized = softmax_loss_vectorized(W, X_dev, y_dev, 0.000005)\n",
    "toc = time.time()\n",
    "print('vectorized loss: %e computed in %fs' % (loss_vectorized, toc - tic))\n",
    "\n",
    "# As we did for the SVM, we use the Frobenius norm to compare the two versions\n",
    "# of the gradient.\n",
    "grad_difference = np.linalg.norm(grad_naive - grad_vectorized, ord='fro')\n",
    "print('Loss difference: %f' % np.abs(loss_naive - loss_vectorized))\n",
    "print('Gradient difference: %f' % grad_difference)"
   ]
  },
  {
   "cell_type": "code",
   "execution_count": 25,
   "metadata": {
    "tags": [
     "code"
    ]
   },
   "outputs": [
    {
     "name": "stdout",
     "output_type": "stream",
     "text": [
      "iteration 0 / 1500: loss 760.288521\n",
      "iteration 100 / 1500: loss 279.460052\n",
      "iteration 200 / 1500: loss 103.470585\n",
      "iteration 300 / 1500: loss 39.277504\n",
      "iteration 400 / 1500: loss 15.742834\n",
      "iteration 500 / 1500: loss 7.086016\n",
      "iteration 600 / 1500: loss 3.927340\n",
      "iteration 700 / 1500: loss 2.798648\n",
      "iteration 800 / 1500: loss 2.354289\n",
      "iteration 900 / 1500: loss 2.148742\n",
      "iteration 1000 / 1500: loss 2.107838\n",
      "iteration 1100 / 1500: loss 2.074398\n",
      "iteration 1200 / 1500: loss 2.158365\n",
      "iteration 1300 / 1500: loss 2.055489\n",
      "iteration 1400 / 1500: loss 2.033517\n",
      "Train for LR 0.000000 and REG 25000.000000 took 32.255121s and had validation accuracy = 0.346000\n",
      "iteration 0 / 1500: loss 1525.606268\n",
      "iteration 100 / 1500: loss 205.692482\n",
      "iteration 200 / 1500: loss 29.257401\n",
      "iteration 300 / 1500: loss 5.761813\n",
      "iteration 400 / 1500: loss 2.610939\n",
      "iteration 500 / 1500: loss 2.171273\n",
      "iteration 600 / 1500: loss 2.106124\n",
      "iteration 700 / 1500: loss 2.132875\n",
      "iteration 800 / 1500: loss 2.137303\n",
      "iteration 900 / 1500: loss 2.157452\n",
      "iteration 1000 / 1500: loss 2.132906\n",
      "iteration 1100 / 1500: loss 2.158510\n",
      "iteration 1200 / 1500: loss 2.141339\n",
      "iteration 1300 / 1500: loss 2.162772\n",
      "iteration 1400 / 1500: loss 2.152866\n",
      "Train for LR 0.000000 and REG 50000.000000 took 19.049391s and had validation accuracy = 0.328000\n",
      "iteration 0 / 1500: loss 771.050763\n",
      "iteration 100 / 1500: loss 6.878342\n",
      "iteration 200 / 1500: loss 2.144156\n",
      "iteration 300 / 1500: loss 2.075910\n",
      "iteration 400 / 1500: loss 2.134736\n",
      "iteration 500 / 1500: loss 2.068365\n",
      "iteration 600 / 1500: loss 2.059900\n",
      "iteration 700 / 1500: loss 2.083946\n",
      "iteration 800 / 1500: loss 2.039457\n",
      "iteration 900 / 1500: loss 2.051298\n",
      "iteration 1000 / 1500: loss 2.112029\n",
      "iteration 1100 / 1500: loss 2.091227\n",
      "iteration 1200 / 1500: loss 2.109655\n",
      "iteration 1300 / 1500: loss 2.075387\n",
      "iteration 1400 / 1500: loss 2.134460\n",
      "Train for LR 0.000000 and REG 25000.000000 took 30.189001s and had validation accuracy = 0.341000\n",
      "iteration 0 / 1500: loss 1553.492450\n",
      "iteration 100 / 1500: loss 2.221717\n",
      "iteration 200 / 1500: loss 2.141094\n",
      "iteration 300 / 1500: loss 2.206575\n",
      "iteration 400 / 1500: loss 2.131933\n",
      "iteration 500 / 1500: loss 2.154508\n",
      "iteration 600 / 1500: loss 2.144511\n",
      "iteration 700 / 1500: loss 2.173349\n",
      "iteration 800 / 1500: loss 2.149862\n",
      "iteration 900 / 1500: loss 2.093065\n",
      "iteration 1000 / 1500: loss 2.192364\n",
      "iteration 1100 / 1500: loss 2.168474\n",
      "iteration 1200 / 1500: loss 2.123724\n",
      "iteration 1300 / 1500: loss 2.122058\n",
      "iteration 1400 / 1500: loss 2.145113\n",
      "Train for LR 0.000000 and REG 50000.000000 took 19.965509s and had validation accuracy = 0.329000\n",
      "lr 1.000000e-07 reg 2.500000e+04 train accuracy: 0.329551 val accuracy: 0.346000\n",
      "lr 1.000000e-07 reg 5.000000e+04 train accuracy: 0.312939 val accuracy: 0.328000\n",
      "lr 5.000000e-07 reg 2.500000e+04 train accuracy: 0.316980 val accuracy: 0.341000\n",
      "lr 5.000000e-07 reg 5.000000e+04 train accuracy: 0.306306 val accuracy: 0.329000\n",
      "best validation accuracy achieved during cross-validation: 0.346000\n"
     ]
    }
   ],
   "source": [
    "# Use the validation set to tune hyperparameters (regularization strength and\n",
    "# learning rate). You should experiment with different ranges for the learning\n",
    "# rates and regularization strengths; if you are careful you should be able to\n",
    "# get a classification accuracy of over 0.35 on the validation set.\n",
    "from cs231n.classifiers import Softmax\n",
    "results = {}\n",
    "best_val = -1\n",
    "best_softmax = None\n",
    "learning_rates = [1e-7, 5e-7]\n",
    "regularization_strengths = [2.5e4, 5e4]\n",
    "\n",
    "################################################################################\n",
    "# TODO:                                                                        #\n",
    "# Use the validation set to set the learning rate and regularization strength. #\n",
    "# This should be identical to the validation that you did for the SVM; save    #\n",
    "# the best trained softmax classifer in best_softmax.                          #\n",
    "################################################################################\n",
    "# *****START OF YOUR CODE (DO NOT DELETE/MODIFY THIS LINE)*****\n",
    "\n",
    "for learning_rate in learning_rates:\n",
    "    for reg in regularization_strengths:\n",
    "        softmax = Softmax()\n",
    "        tic = time.time()\n",
    "        softmax.train(X_train, y_train, learning_rate=learning_rate, reg=reg, num_iters=1500, verbose=True)\n",
    "        toc = time.time()\n",
    "        \n",
    "        training_accuracy = np.mean(y_train == softmax.predict(X_train))\n",
    "        validation_accuracy = np.mean(y_val == softmax.predict(X_val))\n",
    "                \n",
    "        results[(learning_rate, reg)] = (training_accuracy, validation_accuracy)\n",
    "        \n",
    "        if (validation_accuracy > best_val):\n",
    "            best_val = validation_accuracy\n",
    "            best_softmax = softmax\n",
    "        \n",
    "        print('Train for LR %f and REG %f took %fs and had validation accuracy = %f' % (learning_rate, reg, (toc - tic), validation_accuracy))\n",
    "\n",
    "\n",
    "# *****END OF YOUR CODE (DO NOT DELETE/MODIFY THIS LINE)*****\n",
    "    \n",
    "# Print out results.\n",
    "for lr, reg in sorted(results):\n",
    "    train_accuracy, val_accuracy = results[(lr, reg)]\n",
    "    print('lr %e reg %e train accuracy: %f val accuracy: %f' % (\n",
    "                lr, reg, train_accuracy, val_accuracy))\n",
    "    \n",
    "print('best validation accuracy achieved during cross-validation: %f' % best_val)"
   ]
  },
  {
   "cell_type": "code",
   "execution_count": 26,
   "metadata": {},
   "outputs": [
    {
     "name": "stdout",
     "output_type": "stream",
     "text": [
      "softmax on raw pixels final test set accuracy: 0.347000\n"
     ]
    }
   ],
   "source": [
    "# evaluate on test set\n",
    "# Evaluate the best softmax on test set\n",
    "y_test_pred = best_softmax.predict(X_test)\n",
    "test_accuracy = np.mean(y_test == y_test_pred)\n",
    "print('softmax on raw pixels final test set accuracy: %f' % (test_accuracy, ))"
   ]
  },
  {
   "cell_type": "markdown",
   "metadata": {
    "tags": [
     "pdf-inline"
    ]
   },
   "source": [
    "**Inline Question 2** - *True or False*\n",
    "\n",
    "Suppose the overall training loss is defined as the sum of the per-datapoint loss over all training examples. It is possible to add a new datapoint to a training set that would leave the SVM loss unchanged, but this is not the case with the Softmax classifier loss.\n",
    "\n",
    "$\\color{blue}{\\textit Your Answer:}$ True\n",
    "\n",
    "\n",
    "$\\color{blue}{\\textit Your Explanation:}$ SVM loss is sum of margins, which is 0 in case corresponding row is far enought from the correct one, thus adding one more datapoing in training set will leave loss unchanged if the new datapoint has margin less than 0. This is not true for softmax as it's loss will never be 0\n",
    "\n"
   ]
  },
  {
   "cell_type": "code",
   "execution_count": 27,
   "metadata": {},
   "outputs": [
    {
     "data": {
      "image/png": "[encoded data removed]",
      "text/plain": [
       "<Figure size 720x576 with 10 Axes>"
      ]
     },
     "metadata": {
      "needs_background": "light"
     },
     "output_type": "display_data"
    }
   ],
   "source": [
    "# Visualize the learned weights for each class\n",
    "w = best_softmax.W[:-1,:] # strip out the bias\n",
    "w = w.reshape(32, 32, 3, 10)\n",
    "\n",
    "w_min, w_max = np.min(w), np.max(w)\n",
    "\n",
    "classes = ['plane', 'car', 'bird', 'cat', 'deer', 'dog', 'frog', 'horse', 'ship', 'truck']\n",
    "for i in range(10):\n",
    "    plt.subplot(2, 5, i + 1)\n",
    "    \n",
    "    # Rescale the weights to be between 0 and 255\n",
    "    wimg = 255.0 * (w[:, :, :, i].squeeze() - w_min) / (w_max - w_min)\n",
    "    plt.imshow(wimg.astype('uint8'))\n",
    "    plt.axis('off')\n",
    "    plt.title(classes[i])"
   ]
  },
  {
   "cell_type": "code",
   "execution_count": null,
   "metadata": {},
   "outputs": [],
   "source": []
  }
 ],
 "metadata": {
  "kernelspec": {
   "display_name": "Python 3",
   "language": "python",
   "name": "python3"
  },
  "language_info": {
   "codemirror_mode": {
    "name": "ipython",
    "version": 3
   },
   "file_extension": ".py",
   "mimetype": "text/x-python",
   "name": "python",
   "nbconvert_exporter": "python",
   "pygments_lexer": "ipython3",
   "version": "3.7.5"
  }
 },
 "nbformat": 4,
 "nbformat_minor": 1
}
